{
 "cells": [
  {
   "cell_type": "code",
   "execution_count": 1,
   "metadata": {},
   "outputs": [],
   "source": [
    "import os\n",
    "import subprocess"
   ]
  },
  {
   "cell_type": "code",
   "execution_count": 19,
   "metadata": {},
   "outputs": [],
   "source": [
    "#-------------------------\n",
    "#! CONVEERTER FLAC / WAV > ALAC\n",
    "# os.listdir(folder)\n",
    "#-------------------------\n",
    "\n",
    "# ------\n",
    "folder = \"/Users/prld/gPrld/Music/Mac Miller/[2018]_3 Swimming/Swimming (Sessions)/convert\"\n",
    "# ------\n",
    "\n",
    "excl = [\".png\",\".jpg\",\".pdf\",\".DS_Store\"]\n",
    "\n",
    "def convert(format=\"flac\"):\n",
    "    for file in os.listdir(folder):\n",
    "        if any(x in file for x in excl):\n",
    "            pass\n",
    "        else:\n",
    "            codc = \"alac\"\n",
    "            default_filename = folder+\"/\"+file\n",
    "            title = file.split('.'+str(format))[0]\n",
    "            new_filename = folder+\"/\"+title+\".m4a\"\n",
    "            \n",
    "            ffmpeg_command = 'ffmpeg -i \"{0}\" -c:v copy -c:a {1} \"{2}\"'.format(default_filename,codc,new_filename)\n",
    "            print('>>>FFMPEG is running\\n')\n",
    "            subprocess.run(ffmpeg_command, shell=True)"
   ]
  },
  {
   "cell_type": "code",
   "execution_count": 21,
   "metadata": {},
   "outputs": [
    {
     "name": "stdout",
     "output_type": "stream",
     "text": [
      ">>>FFMPEG is running\n",
      "\n"
     ]
    },
    {
     "name": "stderr",
     "output_type": "stream",
     "text": [
      "ffmpeg version 6.1.1 Copyright (c) 2000-2023 the FFmpeg developers\n",
      "  built with Apple clang version 15.0.0 (clang-1500.1.0.2.5)\n",
      "  configuration: --prefix=/opt/homebrew/Cellar/ffmpeg/6.1.1_3 --enable-shared --enable-pthreads --enable-version3 --cc=clang --host-cflags= --host-ldflags='-Wl,-ld_classic' --enable-ffplay --enable-gnutls --enable-gpl --enable-libaom --enable-libaribb24 --enable-libbluray --enable-libdav1d --enable-libharfbuzz --enable-libjxl --enable-libmp3lame --enable-libopus --enable-librav1e --enable-librist --enable-librubberband --enable-libsnappy --enable-libsrt --enable-libssh --enable-libsvtav1 --enable-libtesseract --enable-libtheora --enable-libvidstab --enable-libvmaf --enable-libvorbis --enable-libvpx --enable-libwebp --enable-libx264 --enable-libx265 --enable-libxml2 --enable-libxvid --enable-lzma --enable-libfontconfig --enable-libfreetype --enable-frei0r --enable-libass --enable-libopencore-amrnb --enable-libopencore-amrwb --enable-libopenjpeg --enable-libopenvino --enable-libspeex --enable-libsoxr --enable-libzmq --enable-libzimg --disable-libjack --disable-indev=jack --enable-videotoolbox --enable-audiotoolbox --enable-neon\n",
      "  libavutil      58. 29.100 / 58. 29.100\n",
      "  libavcodec     60. 31.102 / 60. 31.102\n",
      "  libavformat    60. 16.100 / 60. 16.100\n",
      "  libavdevice    60.  3.100 / 60.  3.100\n",
      "  libavfilter     9. 12.100 /  9. 12.100\n",
      "  libswscale      7.  5.100 /  7.  5.100\n",
      "  libswresample   4. 12.100 /  4. 12.100\n",
      "  libpostproc    57.  3.100 / 57.  3.100\n",
      "Input #0, flac, from '/Users/prld/gPrld/Music/Mac Miller/[2018]_3 Swimming/Swimming (Sessions)/convert/Completely_Transparent.flac':\n",
      "  Duration: 00:06:00.38, start: 0.000000, bitrate: 900 kb/s\n",
      "  Stream #0:0: Audio: flac, 44100 Hz, stereo, s16\n",
      "  Stream #0:1: Video: png, rgba(pc, gbr/bt709/iec61966-2-1), 1068x1068, 90k tbr, 90k tbn (attached pic)\n",
      "    Metadata:\n",
      "      comment         : Cover (front)\n",
      "Stream mapping:\n",
      "  Stream #0:1 -> #0:0 (copy)\n",
      "  Stream #0:0 -> #0:1 (flac (native) -> alac (native))\n",
      "Press [q] to stop, [?] for help\n",
      "Output #0, ipod, to '/Users/prld/gPrld/Music/Mac Miller/[2018]_3 Swimming/Swimming (Sessions)/convert/Completely_Transparent.m4a':\n",
      "  Metadata:\n",
      "    encoder         : Lavf60.16.100\n",
      "  Stream #0:0: Video: png, rgba(pc, gbr/bt709/iec61966-2-1), 1068x1068, q=2-31, 90k tbr, 90k tbn (attached pic)\n",
      "    Metadata:\n",
      "      comment         : Cover (front)\n",
      "  Stream #0:1: Audio: alac (alac / 0x63616C61), 44100 Hz, stereo, s16p, 128 kb/s\n",
      "    Metadata:\n",
      "      encoder         : Lavc60.31.102 alac\n",
      "[out#0/ipod @ 0x1380053d0] video:1159kB audio:38585kB subtitle:0kB other streams:0kB global headers:0kB muxing overhead: 0.041347%\n",
      "size=   39760kB time=00:06:00.37 bitrate= 903.8kbits/s speed= 301x    \n"
     ]
    }
   ],
   "source": [
    "convert(format=\"flac\")"
   ]
  },
  {
   "cell_type": "markdown",
   "metadata": {},
   "source": [
    "-----------"
   ]
  },
  {
   "cell_type": "code",
   "execution_count": 5,
   "metadata": {},
   "outputs": [
    {
     "data": {
      "text/plain": [
       "['1. Mac Miller - The Quest [E] [US38Y2310269].m4a']"
      ]
     },
     "execution_count": 5,
     "metadata": {},
     "output_type": "execute_result"
    }
   ],
   "source": [
    "test = os.listdir(folder)\n",
    "test"
   ]
  },
  {
   "cell_type": "code",
   "execution_count": 8,
   "metadata": {},
   "outputs": [],
   "source": [
    "def title_extract(file):\n",
    "    out = \"\"\n",
    "    \n",
    "    #! --------------\n",
    "    name = \"Mac Miller\"\n",
    "    #! --------------\n",
    "    t1 = file.split('. '+name+' - ')\n",
    "    out+=t1[0]+\" \"\n",
    "    out+= t1[1].split('  [')[0]\n",
    "    out+=\".m4a\"\n",
    "    \n",
    "    return out\n",
    "\n",
    "def rename_folder(folder):\n",
    "    L = []\n",
    "    fold = os.listdir(folder)\n",
    "    for file in fold:\n",
    "        if (\".jpg\" in file) or (\".pdf\" in file) or (\".DS_Store\" in file):\n",
    "            pass\n",
    "        else:\n",
    "            try:\n",
    "                new_name = title_extract(file)\n",
    "                try:\n",
    "                    os.rename(folder+\"/\"+file,folder+\"/\"+new_name)\n",
    "                except:\n",
    "                    print(new_name)\n",
    "            except:\n",
    "                print(file)\n",
    "    return \">>> OK\"\n",
    "        "
   ]
  },
  {
   "cell_type": "code",
   "execution_count": 9,
   "metadata": {},
   "outputs": [
    {
     "name": "stdout",
     "output_type": "stream",
     "text": [
      "SJtCJMG.He7cSc__.zip.part\n",
      "1 The Quest [E] [US38Y2310269].m4a.m4a\n",
      "SJtCJMG.zip\n"
     ]
    },
    {
     "data": {
      "text/plain": [
       "'>>> OK'"
      ]
     },
     "execution_count": 9,
     "metadata": {},
     "output_type": "execute_result"
    }
   ],
   "source": [
    "rename_folder(folder)"
   ]
  }
 ],
 "metadata": {
  "kernelspec": {
   "display_name": "ytmusic",
   "language": "python",
   "name": "python3"
  },
  "language_info": {
   "codemirror_mode": {
    "name": "ipython",
    "version": 3
   },
   "file_extension": ".py",
   "mimetype": "text/x-python",
   "name": "python",
   "nbconvert_exporter": "python",
   "pygments_lexer": "ipython3",
   "version": "3.10.13"
  }
 },
 "nbformat": 4,
 "nbformat_minor": 2
}
