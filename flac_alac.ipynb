{
 "cells": [
  {
   "cell_type": "code",
   "execution_count": 2,
   "metadata": {},
   "outputs": [],
   "source": [
    "import os\n",
    "import subprocess"
   ]
  },
  {
   "cell_type": "code",
   "execution_count": 4,
   "metadata": {},
   "outputs": [],
   "source": [
    "# ------\n",
    "folder = \"/Users/prld/gPrld/Music/Kanye West/¥$ - VULTURES 1/convert\"\n",
    "# ------"
   ]
  },
  {
   "cell_type": "code",
   "execution_count": 5,
   "metadata": {},
   "outputs": [],
   "source": [
    "#-------------------------\n",
    "#! CONVEERTER FLAC > ALAC\n",
    "# os.listdir(folder)\n",
    "#-------------------------\n",
    "\n",
    "excl = [\".png\",\".jpg\",\".pdf\",\".DS_Store\"]\n",
    "\n",
    "def convert(format=\"flac\"):\n",
    "    for file in os.listdir(folder):\n",
    "        if any(x in file for x in excl):\n",
    "            pass\n",
    "        else:\n",
    "            codc = \"alac\"\n",
    "            default_filename = folder+\"/\"+file\n",
    "            title = file.split('.'+str(format))[0]\n",
    "            new_filename = folder+\"/\"+title+\".m4a\"\n",
    "            \n",
    "            ffmpeg_command = 'ffmpeg -i \"{0}\" -c:v copy -c:a {1} \"{2}\"'.format(default_filename,codc,new_filename)\n",
    "            print('>>>FFMPEG is running\\n')\n",
    "            subprocess.run(ffmpeg_command, shell=True)"
   ]
  },
  {
   "cell_type": "code",
   "execution_count": 6,
   "metadata": {},
   "outputs": [
    {
     "name": "stdout",
     "output_type": "stream",
     "text": [
      ">>>FFMPEG is running\n",
      "\n"
     ]
    },
    {
     "name": "stderr",
     "output_type": "stream",
     "text": [
      "ffmpeg version 6.1.1 Copyright (c) 2000-2023 the FFmpeg developers\n",
      "  built with Apple clang version 15.0.0 (clang-1500.1.0.2.5)\n",
      "  configuration: --prefix=/opt/homebrew/Cellar/ffmpeg/6.1.1_3 --enable-shared --enable-pthreads --enable-version3 --cc=clang --host-cflags= --host-ldflags='-Wl,-ld_classic' --enable-ffplay --enable-gnutls --enable-gpl --enable-libaom --enable-libaribb24 --enable-libbluray --enable-libdav1d --enable-libharfbuzz --enable-libjxl --enable-libmp3lame --enable-libopus --enable-librav1e --enable-librist --enable-librubberband --enable-libsnappy --enable-libsrt --enable-libssh --enable-libsvtav1 --enable-libtesseract --enable-libtheora --enable-libvidstab --enable-libvmaf --enable-libvorbis --enable-libvpx --enable-libwebp --enable-libx264 --enable-libx265 --enable-libxml2 --enable-libxvid --enable-lzma --enable-libfontconfig --enable-libfreetype --enable-frei0r --enable-libass --enable-libopencore-amrnb --enable-libopencore-amrwb --enable-libopenjpeg --enable-libopenvino --enable-libspeex --enable-libsoxr --enable-libzmq --enable-libzimg --disable-libjack --disable-indev=jack --enable-videotoolbox --enable-audiotoolbox --enable-neon\n",
      "  libavutil      58. 29.100 / 58. 29.100\n",
      "  libavcodec     60. 31.102 / 60. 31.102\n",
      "  libavformat    60. 16.100 / 60. 16.100\n",
      "  libavdevice    60.  3.100 / 60.  3.100\n",
      "  libavfilter     9. 12.100 /  9. 12.100\n",
      "  libswscale      7.  5.100 /  7.  5.100\n",
      "  libswresample   4. 12.100 /  4. 12.100\n",
      "  libpostproc    57.  3.100 / 57.  3.100\n",
      "[aist#0:0/pcm_s24le @ 0x148e3d680] Guessed Channel Layout: stereo\n",
      "Input #0, wav, from '/Users/prld/gPrld/Music/Kanye West/¥$ - VULTURES 1/convert/14 GOOD (DON'T DIE).wav':\n",
      "  Metadata:\n",
      "    encoded_by      : Logic Pro X\n",
      "    date            : 2024-02-0\n",
      "    creation_time   : 22:34:3\n",
      "    time_reference  : 172800000\n",
      "    umid            : 0x0000000098D46C6F010000000000000000000000000000000000000030CE6C6F0100000000CE6C6F01000000C8484F03010031FC000000000000000030CE6C6F\n",
      "    coding_history  : \n",
      "  Duration: 00:03:19.44, bitrate: 2304 kb/s\n",
      "  Stream #0:0: Audio: pcm_s24le ([1][0][0][0] / 0x0001), 48000 Hz, 2 channels, s32 (24 bit), 2304 kb/s\n",
      "Stream mapping:\n",
      "  Stream #0:0 -> #0:0 (pcm_s24le (native) -> alac (native))\n",
      "Press [q] to stop, [?] for help\n",
      "[alac @ 0x148e400d0] encoding as 24 bits-per-sample\n",
      "Output #0, ipod, to '/Users/prld/gPrld/Music/Kanye West/¥$ - VULTURES 1/convert/14 GOOD (DON'T DIE).m4a':\n",
      "  Metadata:\n",
      "    encoded_by      : Logic Pro X\n",
      "    date            : 2024-02-0\n",
      "    coding_history  : \n",
      "    time_reference  : 172800000\n",
      "    umid            : 0x0000000098D46C6F010000000000000000000000000000000000000030CE6C6F0100000000CE6C6F01000000C8484F03010031FC000000000000000030CE6C6F\n",
      "    encoder         : Lavf60.16.100\n",
      "  Stream #0:0: Audio: alac (alac / 0x63616C61), 48000 Hz, stereo, s32p (24 bit), 128 kb/s\n",
      "    Metadata:\n",
      "      encoder         : Lavc60.31.102 alac\n",
      "[out#0/ipod @ 0x148e3f140] video:0kB audio:38386kB subtitle:0kB other streams:0kB global headers:0kB muxing overhead: 0.027069%\n",
      "size=   38397kB time=00:03:19.42 bitrate=1577.3kbits/s speed= 215x    \n"
     ]
    }
   ],
   "source": [
    "convert(format=\"wav\")"
   ]
  },
  {
   "cell_type": "code",
   "execution_count": 5,
   "metadata": {},
   "outputs": [
    {
     "data": {
      "text/plain": [
       "['1. Mac Miller - The Quest [E] [US38Y2310269].m4a']"
      ]
     },
     "execution_count": 5,
     "metadata": {},
     "output_type": "execute_result"
    }
   ],
   "source": [
    "test = os.listdir(folder)\n",
    "test"
   ]
  },
  {
   "cell_type": "code",
   "execution_count": 8,
   "metadata": {},
   "outputs": [],
   "source": [
    "def title_extract(file):\n",
    "    out = \"\"\n",
    "    \n",
    "    #! --------------\n",
    "    name = \"Mac Miller\"\n",
    "    #! --------------\n",
    "    t1 = file.split('. '+name+' - ')\n",
    "    out+=t1[0]+\" \"\n",
    "    out+= t1[1].split('  [')[0]\n",
    "    out+=\".m4a\"\n",
    "    \n",
    "    return out\n",
    "\n",
    "def rename_folder(folder):\n",
    "    L = []\n",
    "    fold = os.listdir(folder)\n",
    "    for file in fold:\n",
    "        if (\".jpg\" in file) or (\".pdf\" in file) or (\".DS_Store\" in file):\n",
    "            pass\n",
    "        else:\n",
    "            try:\n",
    "                new_name = title_extract(file)\n",
    "                try:\n",
    "                    os.rename(folder+\"/\"+file,folder+\"/\"+new_name)\n",
    "                except:\n",
    "                    print(new_name)\n",
    "            except:\n",
    "                print(file)\n",
    "    return \">>> OK\"\n",
    "        "
   ]
  },
  {
   "cell_type": "code",
   "execution_count": 9,
   "metadata": {},
   "outputs": [
    {
     "name": "stdout",
     "output_type": "stream",
     "text": [
      "SJtCJMG.He7cSc__.zip.part\n",
      "1 The Quest [E] [US38Y2310269].m4a.m4a\n",
      "SJtCJMG.zip\n"
     ]
    },
    {
     "data": {
      "text/plain": [
       "'>>> OK'"
      ]
     },
     "execution_count": 9,
     "metadata": {},
     "output_type": "execute_result"
    }
   ],
   "source": [
    "rename_folder(folder)"
   ]
  }
 ],
 "metadata": {
  "kernelspec": {
   "display_name": "ytmusic",
   "language": "python",
   "name": "python3"
  },
  "language_info": {
   "codemirror_mode": {
    "name": "ipython",
    "version": 3
   },
   "file_extension": ".py",
   "mimetype": "text/x-python",
   "name": "python",
   "nbconvert_exporter": "python",
   "pygments_lexer": "ipython3",
   "version": "3.10.13"
  }
 },
 "nbformat": 4,
 "nbformat_minor": 2
}
