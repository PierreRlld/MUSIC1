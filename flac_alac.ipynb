{
 "cells": [
  {
   "cell_type": "code",
   "execution_count": 3,
   "metadata": {},
   "outputs": [],
   "source": [
    "import os\n",
    "import subprocess"
   ]
  },
  {
   "cell_type": "code",
   "execution_count": 4,
   "metadata": {},
   "outputs": [],
   "source": [
    "# ------\n",
    "folder = \"/Users/prld/gPrld/Music/Mac Miller/#CONVERTISSEUR\"\n",
    "# ------"
   ]
  },
  {
   "cell_type": "code",
   "execution_count": null,
   "metadata": {},
   "outputs": [],
   "source": [
    "#-------------------------\n",
    "#! CONVEERTER FLAC > ALAC\n",
    "# os.listdir(folder)\n",
    "#-------------------------\n",
    "\n",
    "excl = [\".png\",\".jpg\",\".pdf\",\".DS_Store\"]\n",
    "\n",
    "for file in os.listdir(folder):\n",
    "    if any(x in file for x in excl):\n",
    "        pass\n",
    "    else:\n",
    "        codc = \"alac\"\n",
    "        default_filename = folder+\"/\"+file\n",
    "        title = file.split('.flac')[0]\n",
    "        new_filename = folder+\"/\"+title+\".m4a\"\n",
    "        \n",
    "        ffmpeg_command = 'ffmpeg -i \"{0}\" -c:v copy -c:a {1} \"{2}\"'.format(default_filename,codc,new_filename)\n",
    "        print('>>>FFMPEG is running\\n')\n",
    "        subprocess.run(ffmpeg_command, shell=True)"
   ]
  },
  {
   "cell_type": "code",
   "execution_count": 5,
   "metadata": {},
   "outputs": [
    {
     "data": {
      "text/plain": [
       "['1. Mac Miller - The Quest [E] [US38Y2310269].m4a']"
      ]
     },
     "execution_count": 5,
     "metadata": {},
     "output_type": "execute_result"
    }
   ],
   "source": [
    "test = os.listdir(folder)\n",
    "test"
   ]
  },
  {
   "cell_type": "code",
   "execution_count": 8,
   "metadata": {},
   "outputs": [],
   "source": [
    "def title_extract(file):\n",
    "    out = \"\"\n",
    "    \n",
    "    #! --------------\n",
    "    name = \"Mac Miller\"\n",
    "    #! --------------\n",
    "    t1 = file.split('. '+name+' - ')\n",
    "    out+=t1[0]+\" \"\n",
    "    out+= t1[1].split('  [')[0]\n",
    "    out+=\".m4a\"\n",
    "    \n",
    "    return out\n",
    "\n",
    "def rename_folder(folder):\n",
    "    L = []\n",
    "    fold = os.listdir(folder)\n",
    "    for file in fold:\n",
    "        if (\".jpg\" in file) or (\".pdf\" in file) or (\".DS_Store\" in file):\n",
    "            pass\n",
    "        else:\n",
    "            try:\n",
    "                new_name = title_extract(file)\n",
    "                try:\n",
    "                    os.rename(folder+\"/\"+file,folder+\"/\"+new_name)\n",
    "                except:\n",
    "                    print(title)\n",
    "            except:\n",
    "                print(file)\n",
    "    return \">>> OK\"\n",
    "        "
   ]
  },
  {
   "cell_type": "code",
   "execution_count": 9,
   "metadata": {},
   "outputs": [
    {
     "name": "stdout",
     "output_type": "stream",
     "text": [
      "SJtCJMG.He7cSc__.zip.part\n",
      "1 The Quest [E] [US38Y2310269].m4a.m4a\n",
      "SJtCJMG.zip\n"
     ]
    },
    {
     "data": {
      "text/plain": [
       "'>>> OK'"
      ]
     },
     "execution_count": 9,
     "metadata": {},
     "output_type": "execute_result"
    }
   ],
   "source": [
    "rename_folder(folder)"
   ]
  }
 ],
 "metadata": {
  "kernelspec": {
   "display_name": "ytmusic",
   "language": "python",
   "name": "python3"
  },
  "language_info": {
   "codemirror_mode": {
    "name": "ipython",
    "version": 3
   },
   "file_extension": ".py",
   "mimetype": "text/x-python",
   "name": "python",
   "nbconvert_exporter": "python",
   "pygments_lexer": "ipython3",
   "version": "3.10.13"
  }
 },
 "nbformat": 4,
 "nbformat_minor": 2
}
