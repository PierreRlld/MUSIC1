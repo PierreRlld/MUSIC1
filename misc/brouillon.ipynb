{
 "cells": [
  {
   "cell_type": "code",
   "execution_count": 1,
   "metadata": {},
   "outputs": [],
   "source": [
    "# imports\n",
    "import os\n",
    "import subprocess\n",
    "import argparse\n",
    "from pytube import YouTube, Playlist, Channel\n",
    "#from pythumb import Thumbnailyoutube \n",
    "import yt_dlp"
   ]
  },
  {
   "cell_type": "code",
   "execution_count": 2,
   "metadata": {},
   "outputs": [],
   "source": [
    "# ----------------\n",
    "global COMBINE_PATH, AUDIO_DOWNLOAD_DIR, VIDEO_DOWNLOAD_DIR\n",
    "AUDIO_DOWNLOAD_DIR = \"/Users/prld/gPrld/Music/#ytmusic_script/#COMBINE/_audio/\"\n",
    "VIDEO_DOWNLOAD_DIR = \"/Users/prld/gPrld/Music/#ytmusic_script/#COMBINE/_video/\"\n",
    "COMBINE_PATH = \"/Users/prld/gPrld/Music/#ytmusic_script/#COMBINE/\"\n",
    "# ----------------"
   ]
  },
  {
   "cell_type": "code",
   "execution_count": 3,
   "metadata": {},
   "outputs": [
    {
     "name": "stdout",
     "output_type": "stream",
     "text": [
      "<Stream: itag=\"18\" mime_type=\"video/mp4\" res=\"360p\" fps=\"24fps\" vcodec=\"avc1.42001E\" acodec=\"mp4a.40.2\" progressive=\"True\" type=\"video\">\n",
      "<Stream: itag=\"22\" mime_type=\"video/mp4\" res=\"720p\" fps=\"24fps\" vcodec=\"avc1.64001F\" acodec=\"mp4a.40.2\" progressive=\"True\" type=\"video\">\n",
      "<Stream: itag=\"137\" mime_type=\"video/mp4\" res=\"1080p\" fps=\"24fps\" vcodec=\"avc1.640028\" progressive=\"False\" type=\"video\">\n",
      "<Stream: itag=\"248\" mime_type=\"video/webm\" res=\"1080p\" fps=\"24fps\" vcodec=\"vp9\" progressive=\"False\" type=\"video\">\n",
      "<Stream: itag=\"136\" mime_type=\"video/mp4\" res=\"720p\" fps=\"24fps\" vcodec=\"avc1.4d401f\" progressive=\"False\" type=\"video\">\n",
      "<Stream: itag=\"247\" mime_type=\"video/webm\" res=\"720p\" fps=\"24fps\" vcodec=\"vp9\" progressive=\"False\" type=\"video\">\n",
      "<Stream: itag=\"135\" mime_type=\"video/mp4\" res=\"480p\" fps=\"24fps\" vcodec=\"avc1.4d401e\" progressive=\"False\" type=\"video\">\n",
      "<Stream: itag=\"244\" mime_type=\"video/webm\" res=\"480p\" fps=\"24fps\" vcodec=\"vp9\" progressive=\"False\" type=\"video\">\n",
      "<Stream: itag=\"134\" mime_type=\"video/mp4\" res=\"360p\" fps=\"24fps\" vcodec=\"avc1.4d401e\" progressive=\"False\" type=\"video\">\n",
      "<Stream: itag=\"243\" mime_type=\"video/webm\" res=\"360p\" fps=\"24fps\" vcodec=\"vp9\" progressive=\"False\" type=\"video\">\n",
      "<Stream: itag=\"133\" mime_type=\"video/mp4\" res=\"240p\" fps=\"24fps\" vcodec=\"avc1.4d4015\" progressive=\"False\" type=\"video\">\n",
      "<Stream: itag=\"242\" mime_type=\"video/webm\" res=\"240p\" fps=\"24fps\" vcodec=\"vp9\" progressive=\"False\" type=\"video\">\n",
      "<Stream: itag=\"160\" mime_type=\"video/mp4\" res=\"144p\" fps=\"24fps\" vcodec=\"avc1.4d400c\" progressive=\"False\" type=\"video\">\n",
      "<Stream: itag=\"278\" mime_type=\"video/webm\" res=\"144p\" fps=\"24fps\" vcodec=\"vp9\" progressive=\"False\" type=\"video\">\n",
      "<Stream: itag=\"139\" mime_type=\"audio/mp4\" abr=\"48kbps\" acodec=\"mp4a.40.5\" progressive=\"False\" type=\"audio\">\n",
      "<Stream: itag=\"140\" mime_type=\"audio/mp4\" abr=\"128kbps\" acodec=\"mp4a.40.2\" progressive=\"False\" type=\"audio\">\n",
      "<Stream: itag=\"249\" mime_type=\"audio/webm\" abr=\"50kbps\" acodec=\"opus\" progressive=\"False\" type=\"audio\">\n",
      "<Stream: itag=\"250\" mime_type=\"audio/webm\" abr=\"70kbps\" acodec=\"opus\" progressive=\"False\" type=\"audio\">\n",
      "<Stream: itag=\"251\" mime_type=\"audio/webm\" abr=\"160kbps\" acodec=\"opus\" progressive=\"False\" type=\"audio\">\n"
     ]
    }
   ],
   "source": [
    "url = \"https://www.youtube.com/watch?v=4iQmPv_dTI0\"\n",
    "yt = YouTube(url)\n",
    "\n",
    "for el in yt.streams.filter():\n",
    "    print(el)"
   ]
  },
  {
   "cell_type": "code",
   "execution_count": 4,
   "metadata": {},
   "outputs": [
    {
     "data": {
      "text/plain": [
       "[<Stream: itag=\"248\" mime_type=\"video/webm\" res=\"1080p\" fps=\"24fps\" vcodec=\"vp9\" progressive=\"False\" type=\"video\">, <Stream: itag=\"247\" mime_type=\"video/webm\" res=\"720p\" fps=\"24fps\" vcodec=\"vp9\" progressive=\"False\" type=\"video\">, <Stream: itag=\"244\" mime_type=\"video/webm\" res=\"480p\" fps=\"24fps\" vcodec=\"vp9\" progressive=\"False\" type=\"video\">, <Stream: itag=\"243\" mime_type=\"video/webm\" res=\"360p\" fps=\"24fps\" vcodec=\"vp9\" progressive=\"False\" type=\"video\">, <Stream: itag=\"242\" mime_type=\"video/webm\" res=\"240p\" fps=\"24fps\" vcodec=\"vp9\" progressive=\"False\" type=\"video\">, <Stream: itag=\"278\" mime_type=\"video/webm\" res=\"144p\" fps=\"24fps\" vcodec=\"vp9\" progressive=\"False\" type=\"video\">]"
      ]
     },
     "execution_count": 4,
     "metadata": {},
     "output_type": "execute_result"
    }
   ],
   "source": [
    "yt.streams.filter(only_video=True, mime_type=\"video/webm\")"
   ]
  },
  {
   "cell_type": "code",
   "execution_count": 5,
   "metadata": {},
   "outputs": [],
   "source": [
    "def YoutubeAudioDownload(url):\n",
    "    '''\n",
    "    Codec : \n",
    "    - alac : apple lossless \n",
    "    - aac base codec\n",
    "    '''    \n",
    "    yt = YouTube(url)\n",
    "    \n",
    "    try:\n",
    "        audio = yt.streams.get_audio_only(subtype=\"webm\")   # opus 160kbps\n",
    "    except:\n",
    "        return \">>> Error audio stream\"\n",
    "\n",
    "    try:\n",
    "        print('>>>Downloading...\\n')\n",
    "        audio.download(AUDIO_DOWNLOAD_DIR)\n",
    "        print('>>>Done!\\n')\n",
    "        \n",
    "        #new_filename=FOLDER+\"/\"+yt.title+\".m4a\"\n",
    "        #codc = \"aac\"\n",
    "            \n",
    "        #default_filename =FOLDER+\"/\"+yt.title+'.'+audio.mime_type.split(\"/\")[1]\n",
    "        #ffmpeg_command = 'ffmpeg -i \"{0}\" -c:a {1} -b:a 160k \"{2}\"'.format(default_filename,codc,new_filename)\n",
    "        #print('>>>FFMPEG is running\\n')\n",
    "        #subprocess.run(ffmpeg_command, shell=True)\n",
    "            \n",
    "    except:\n",
    "        print(f\"pb\")\n",
    "        return\n",
    "\n",
    "    return"
   ]
  },
  {
   "cell_type": "code",
   "execution_count": 7,
   "metadata": {},
   "outputs": [],
   "source": [
    "def YoutubeVideoDownload(url):\n",
    "\n",
    "    yt = YouTube(url)\n",
    "    res = {0:\"2160p\",1:\"1440p\",2:\"1080p\",3:\"720p\"}\n",
    "    mime = {0:\"webm\",1:\"webm\",2:\"mp4\",3:\"mp4\"}\n",
    "    c = 0\n",
    "    \n",
    "    query = yt.streams.filter(only_video = True, res=res[c], mime_type=\"video/\"+mime[c])\n",
    "    while len(query)==0:\n",
    "        c+=1\n",
    "        query = yt.streams.filter(only_video = True, res=res[c], mime_type=\"video/\"+mime[c])\n",
    "    video = query[0]\n",
    "    print(\">>>{0}\\n\".format(res[c]))\n",
    "    \n",
    "    try:\n",
    "        print('>>>Downloading...\\n')\n",
    "        video.download(VIDEO_DOWNLOAD_DIR)\n",
    "        print('>>>Done!\\n')\n",
    "    except:\n",
    "        print(f\"Video failure - {yt.title}\")\n",
    "\n",
    "    return"
   ]
  },
  {
   "cell_type": "code",
   "execution_count": null,
   "metadata": {},
   "outputs": [],
   "source": [
    "def combine_audio_video(file_name,vid_format,audio_format):\n",
    "    \n",
    "    input_video_path = COMBINE_PATH+\"_video/\"+file_name+vid_format\n",
    "    new_filename = COMBINE_PATH+\"_audio/\" + file_name + \" - mixed.mp4\"\n",
    "    input_audio_path = COMBINE_PATH+file_name+audio_format\n",
    "        \n",
    "    ffmpeg_command = 'ffmpeg -i \"{0}\" -i \"{1}\" -c:v copy -c:a copy -movflags faststart \"{2}\" '.format(input_video_path,input_audio_path,new_filename)\n",
    "    \n",
    "    print('>>>FFMPEG is running\\n')\n",
    "    subprocess.run(ffmpeg_command, shell=True)\n",
    "    \n",
    "    return \">>> OK\""
   ]
  },
  {
   "cell_type": "code",
   "execution_count": null,
   "metadata": {},
   "outputs": [],
   "source": [
    "combine_audio_video(\n",
    "    file_name=\"Jet Fuel\"\n",
    "    ,vid_format=\".webm\"\n",
    "    ,audio_format=\".m4a\"\n",
    ")"
   ]
  },
  {
   "cell_type": "code",
   "execution_count": null,
   "metadata": {},
   "outputs": [],
   "source": [
    "def ytpdl_auto(url):\n",
    "    \n",
    "    command = ' yt-dlp -f \"bv+ba/b\" -P \"\" -o \"%(title)s.%(ext)s\" \"{0}\" '.format(url)\n",
    "    print('>>>ytdl is running\\n')\n",
    "    subprocess.run(command, shell=True)\n",
    "    \n",
    "    return\n",
    "    "
   ]
  },
  {
   "cell_type": "code",
   "execution_count": null,
   "metadata": {},
   "outputs": [],
   "source": [
    "ytpdl_auto(url=\"https://www.youtube.com/watch?v=4iQmPv_dTI0\")"
   ]
  },
  {
   "cell_type": "code",
   "execution_count": 6,
   "metadata": {},
   "outputs": [
    {
     "name": "stdout",
     "output_type": "stream",
     "text": [
      ">>>Downloading...\n",
      "\n",
      ">>>Done!\n",
      "\n"
     ]
    }
   ],
   "source": [
    "YoutubeAudioDownload(url=url)"
   ]
  },
  {
   "cell_type": "code",
   "execution_count": 8,
   "metadata": {},
   "outputs": [
    {
     "name": "stdout",
     "output_type": "stream",
     "text": [
      ">>>1080p\n",
      "\n",
      ">>>Downloading...\n",
      "\n",
      ">>>Done!\n",
      "\n"
     ]
    }
   ],
   "source": [
    "YoutubeVideoDownload(url=url)"
   ]
  }
 ],
 "metadata": {
  "kernelspec": {
   "display_name": "ytmusic",
   "language": "python",
   "name": "python3"
  },
  "language_info": {
   "codemirror_mode": {
    "name": "ipython",
    "version": 3
   },
   "file_extension": ".py",
   "mimetype": "text/x-python",
   "name": "python",
   "nbconvert_exporter": "python",
   "pygments_lexer": "ipython3",
   "version": "3.10.13"
  }
 },
 "nbformat": 4,
 "nbformat_minor": 2
}
