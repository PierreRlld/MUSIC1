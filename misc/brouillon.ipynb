{
 "cells": [
  {
   "cell_type": "code",
   "execution_count": 1,
   "metadata": {},
   "outputs": [],
   "source": [
    "# imports\n",
    "import os\n",
    "import subprocess\n",
    "import argparse\n",
    "from pytube import YouTube, Playlist, Channel\n",
    "from pythumb import Thumbnail"
   ]
  },
  {
   "cell_type": "code",
   "execution_count": 2,
   "metadata": {},
   "outputs": [],
   "source": [
    "# ----------------\n",
    "global DOWNLOAD_DIR, COMBINE_PATH, AUDIO_DOWNLOAD_DIR, VIDEO_DOWNLOAD_DIR\n",
    "DOWNLOAD_DIR =\"/Users/prld/gPrld/Music/#ytmusic_script\"\n",
    "AUDIO_DOWNLOAD_DIR = \"/Users/prld/gPrld/Music/#ytmusic_script/AUDIO\"\n",
    "VIDEO_DOWNLOAD_DIR = \"/Users/prld/gPrld/Music/#ytmusic_script/VIDEO\"\n",
    "COMBINE_PATH = \"/Users/prld/gPrld/Music/#ytmusic_script/#COMBINE/\"\n",
    "# ----------------"
   ]
  },
  {
   "cell_type": "code",
   "execution_count": 25,
   "metadata": {},
   "outputs": [
    {
     "name": "stdout",
     "output_type": "stream",
     "text": [
      "<Stream: itag=\"18\" mime_type=\"video/mp4\" res=\"360p\" fps=\"24fps\" vcodec=\"avc1.42001E\" acodec=\"mp4a.40.2\" progressive=\"True\" type=\"video\">\n",
      "<Stream: itag=\"22\" mime_type=\"video/mp4\" res=\"720p\" fps=\"24fps\" vcodec=\"avc1.64001F\" acodec=\"mp4a.40.2\" progressive=\"True\" type=\"video\">\n",
      "<Stream: itag=\"137\" mime_type=\"video/mp4\" res=\"1080p\" fps=\"24fps\" vcodec=\"avc1.640028\" progressive=\"False\" type=\"video\">\n",
      "<Stream: itag=\"248\" mime_type=\"video/webm\" res=\"1080p\" fps=\"24fps\" vcodec=\"vp9\" progressive=\"False\" type=\"video\">\n",
      "<Stream: itag=\"136\" mime_type=\"video/mp4\" res=\"720p\" fps=\"24fps\" vcodec=\"avc1.4d401f\" progressive=\"False\" type=\"video\">\n",
      "<Stream: itag=\"247\" mime_type=\"video/webm\" res=\"720p\" fps=\"24fps\" vcodec=\"vp9\" progressive=\"False\" type=\"video\">\n",
      "<Stream: itag=\"135\" mime_type=\"video/mp4\" res=\"480p\" fps=\"24fps\" vcodec=\"avc1.4d401e\" progressive=\"False\" type=\"video\">\n",
      "<Stream: itag=\"244\" mime_type=\"video/webm\" res=\"480p\" fps=\"24fps\" vcodec=\"vp9\" progressive=\"False\" type=\"video\">\n",
      "<Stream: itag=\"134\" mime_type=\"video/mp4\" res=\"360p\" fps=\"24fps\" vcodec=\"avc1.4d401e\" progressive=\"False\" type=\"video\">\n",
      "<Stream: itag=\"243\" mime_type=\"video/webm\" res=\"360p\" fps=\"24fps\" vcodec=\"vp9\" progressive=\"False\" type=\"video\">\n",
      "<Stream: itag=\"133\" mime_type=\"video/mp4\" res=\"240p\" fps=\"24fps\" vcodec=\"avc1.4d4015\" progressive=\"False\" type=\"video\">\n",
      "<Stream: itag=\"242\" mime_type=\"video/webm\" res=\"240p\" fps=\"24fps\" vcodec=\"vp9\" progressive=\"False\" type=\"video\">\n",
      "<Stream: itag=\"160\" mime_type=\"video/mp4\" res=\"144p\" fps=\"24fps\" vcodec=\"avc1.4d400c\" progressive=\"False\" type=\"video\">\n",
      "<Stream: itag=\"278\" mime_type=\"video/webm\" res=\"144p\" fps=\"24fps\" vcodec=\"vp9\" progressive=\"False\" type=\"video\">\n",
      "<Stream: itag=\"139\" mime_type=\"audio/mp4\" abr=\"48kbps\" acodec=\"mp4a.40.5\" progressive=\"False\" type=\"audio\">\n",
      "<Stream: itag=\"140\" mime_type=\"audio/mp4\" abr=\"128kbps\" acodec=\"mp4a.40.2\" progressive=\"False\" type=\"audio\">\n",
      "<Stream: itag=\"249\" mime_type=\"audio/webm\" abr=\"50kbps\" acodec=\"opus\" progressive=\"False\" type=\"audio\">\n",
      "<Stream: itag=\"250\" mime_type=\"audio/webm\" abr=\"70kbps\" acodec=\"opus\" progressive=\"False\" type=\"audio\">\n",
      "<Stream: itag=\"251\" mime_type=\"audio/webm\" abr=\"160kbps\" acodec=\"opus\" progressive=\"False\" type=\"audio\">\n"
     ]
    }
   ],
   "source": [
    "url = \"https://www.youtube.com/watch?v=4iQmPv_dTI0\"\n",
    "yt = YouTube(url)\n",
    "\n",
    "for el in yt.streams.filter():\n",
    "    print(el)"
   ]
  },
  {
   "cell_type": "code",
   "execution_count": 9,
   "metadata": {},
   "outputs": [
    {
     "data": {
      "text/plain": [
       "[<Stream: itag=\"248\" mime_type=\"video/webm\" res=\"1080p\" fps=\"24fps\" vcodec=\"vp9\" progressive=\"False\" type=\"video\">, <Stream: itag=\"247\" mime_type=\"video/webm\" res=\"720p\" fps=\"24fps\" vcodec=\"vp9\" progressive=\"False\" type=\"video\">, <Stream: itag=\"244\" mime_type=\"video/webm\" res=\"480p\" fps=\"24fps\" vcodec=\"vp9\" progressive=\"False\" type=\"video\">, <Stream: itag=\"243\" mime_type=\"video/webm\" res=\"360p\" fps=\"24fps\" vcodec=\"vp9\" progressive=\"False\" type=\"video\">, <Stream: itag=\"242\" mime_type=\"video/webm\" res=\"240p\" fps=\"24fps\" vcodec=\"vp9\" progressive=\"False\" type=\"video\">, <Stream: itag=\"278\" mime_type=\"video/webm\" res=\"144p\" fps=\"24fps\" vcodec=\"vp9\" progressive=\"False\" type=\"video\">]"
      ]
     },
     "execution_count": 9,
     "metadata": {},
     "output_type": "execute_result"
    }
   ],
   "source": [
    "yt.streams.filter(only_video=True, mime_type=\"video/webm\")"
   ]
  },
  {
   "cell_type": "code",
   "execution_count": 10,
   "metadata": {},
   "outputs": [],
   "source": [
    "def YoutubeAudioDownload(url):\n",
    "    '''\n",
    "    Codec : \n",
    "    - alac : apple lossless \n",
    "    - aac base codec\n",
    "    '''    \n",
    "    yt = YouTube(url)\n",
    "    #audio = yt.streams.filter(only_audio = True, abr=\"160kbps\")[0]\n",
    "    try:\n",
    "        audio = yt.streams.get_audio_only(subtype=\"webm\")   # opus 160kbps\n",
    "    except:\n",
    "        return \">>> Error audio stream\"\n",
    "\n",
    "    try:\n",
    "        unique = \" _\"+str(len(os.listdir(AUDIO_DOWNLOAD_DIR)))\n",
    "        FOLDER = AUDIO_DOWNLOAD_DIR+\"/\"+yt.title+unique\n",
    "        \n",
    "        if not os.path.exists(FOLDER):\n",
    "            os.makedirs(FOLDER)\n",
    "            print('>>>Downloading...\\n')\n",
    "            audio.download(FOLDER)\n",
    "            print('>>>Done!\\n')\n",
    "            \n",
    "            #new_filename=FOLDER+\"/\"+yt.title+\".m4a\"\n",
    "            #codc = \"aac\"\n",
    "                \n",
    "            #default_filename =FOLDER+\"/\"+yt.title+'.'+audio.mime_type.split(\"/\")[1]\n",
    "            #ffmpeg_command = 'ffmpeg -i \"{0}\" -c:a {1} -b:a 160k \"{2}\"'.format(default_filename,codc,new_filename)\n",
    "            #print('>>>FFMPEG is running\\n')\n",
    "            #subprocess.run(ffmpeg_command, shell=True)\n",
    "            \n",
    "        else:\n",
    "            pass\n",
    "    except:\n",
    "        print(f\"pb\")\n",
    "        return\n",
    "\n",
    "    return"
   ]
  },
  {
   "cell_type": "code",
   "execution_count": 11,
   "metadata": {},
   "outputs": [],
   "source": [
    "def YoutubeVideoDownload(url):\n",
    "    '''\n",
    "\n",
    "    '''    \n",
    "    yt = YouTube(url)\n",
    "    res = {0:\"2160p\",1:\"1440p\",2:\"1080p\",3:\"720p\"}\n",
    "    mime = {0:\"webm\",1:\"webm\",2:\"mp4\",3:\"mp4\"}\n",
    "    c = 0\n",
    "    query = yt.streams.filter(only_video = True, res=res[c], mime_type=\"video/\"+mime[c])\n",
    "    \n",
    "    while len(query)==0:\n",
    "        c+=1\n",
    "        query = yt.streams.filter(only_video = True, res=res[c], mime_type=\"video/\"+mime[c])\n",
    "    video = query[0]\n",
    "    print(\">>>{0}\\n\".format(res[c]))\n",
    "    \n",
    "    try:\n",
    "        unique = \" _\"+str(len(os.listdir(VIDEO_DOWNLOAD_DIR)))\n",
    "        FOLDER = VIDEO_DOWNLOAD_DIR+\"/\"+yt.title+unique\n",
    "        if not os.path.exists(FOLDER):\n",
    "            os.makedirs(FOLDER)\n",
    "            print('>>>Downloading...\\n')\n",
    "            video.download(FOLDER)\n",
    "            print('>>>Done!\\n')\n",
    "    except:\n",
    "        print(f\"Video failure - {yt.title}\")\n",
    "\n",
    "    return"
   ]
  },
  {
   "cell_type": "code",
   "execution_count": 15,
   "metadata": {},
   "outputs": [],
   "source": [
    "def combine_audio_video(file_name,vid_format,audio_format):\n",
    "    \n",
    "    #folder = os.listdir(COMBINE_PATH)\n",
    "    input_video_path = COMBINE_PATH+file_name+vid_format\n",
    "    new_filename = COMBINE_PATH + file_name + \" - mixed.mp4\"\n",
    "    input_audio_path = COMBINE_PATH+file_name+audio_format\n",
    "        \n",
    "    ffmpeg_command = 'ffmpeg -i \"{0}\" -i \"{1}\" -c:v copy -c:a copy -movflags faststart \"{2}\" '.format(input_video_path,input_audio_path,new_filename)\n",
    "    #ffmpeg_command = 'ffmpeg -i \"{0}\" -i \"{1}\" -crf 0 -c:a copy -movflags faststart \"{2}\" '.format(input_video_path,input_audio_path,new_filename)\n",
    "    print('>>>FFMPEG is running\\n')\n",
    "    subprocess.run(ffmpeg_command, shell=True)\n",
    "    \n",
    "    return \">>> OK\""
   ]
  },
  {
   "cell_type": "code",
   "execution_count": 17,
   "metadata": {},
   "outputs": [
    {
     "name": "stdout",
     "output_type": "stream",
     "text": [
      ">>>FFMPEG is running\n",
      "\n"
     ]
    },
    {
     "name": "stderr",
     "output_type": "stream",
     "text": [
      "ffmpeg version 6.1.1 Copyright (c) 2000-2023 the FFmpeg developers\n",
      "  built with Apple clang version 15.0.0 (clang-1500.1.0.2.5)\n",
      "  configuration: --prefix=/opt/homebrew/Cellar/ffmpeg/6.1.1_3 --enable-shared --enable-pthreads --enable-version3 --cc=clang --host-cflags= --host-ldflags='-Wl,-ld_classic' --enable-ffplay --enable-gnutls --enable-gpl --enable-libaom --enable-libaribb24 --enable-libbluray --enable-libdav1d --enable-libharfbuzz --enable-libjxl --enable-libmp3lame --enable-libopus --enable-librav1e --enable-librist --enable-librubberband --enable-libsnappy --enable-libsrt --enable-libssh --enable-libsvtav1 --enable-libtesseract --enable-libtheora --enable-libvidstab --enable-libvmaf --enable-libvorbis --enable-libvpx --enable-libwebp --enable-libx264 --enable-libx265 --enable-libxml2 --enable-libxvid --enable-lzma --enable-libfontconfig --enable-libfreetype --enable-frei0r --enable-libass --enable-libopencore-amrnb --enable-libopencore-amrwb --enable-libopenjpeg --enable-libopenvino --enable-libspeex --enable-libsoxr --enable-libzmq --enable-libzimg --disable-libjack --disable-indev=jack --enable-videotoolbox --enable-audiotoolbox --enable-neon\n",
      "  libavutil      58. 29.100 / 58. 29.100\n",
      "  libavcodec     60. 31.102 / 60. 31.102\n",
      "  libavformat    60. 16.100 / 60. 16.100\n",
      "  libavdevice    60.  3.100 / 60.  3.100\n",
      "  libavfilter     9. 12.100 /  9. 12.100\n",
      "  libswscale      7.  5.100 /  7.  5.100\n",
      "  libswresample   4. 12.100 /  4. 12.100\n",
      "  libpostproc    57.  3.100 / 57.  3.100\n",
      "Input #0, mov,mp4,m4a,3gp,3g2,mj2, from '/Users/prld/gPrld/Music/#ytmusic_script/#COMBINE/Fred again Tiny Desk Concert.mp4':\n",
      "  Metadata:\n",
      "    major_brand     : dash\n",
      "    minor_version   : 0\n",
      "    compatible_brands: iso6avc1mp41\n",
      "    creation_time   : 2023-11-12T22:14:51.000000Z\n",
      "  Duration: 00:26:44.06, start: 0.000000, bitrate: 1242 kb/s\n",
      "  Stream #0:0[0x1](und): Video: h264 (High) (avc1 / 0x31637661), yuv420p(tv, bt709, progressive), 1920x1080 [SAR 1:1 DAR 16:9], 0 kb/s, 23.98 fps, 23.98 tbr, 24k tbn (default)\n",
      "    Metadata:\n",
      "      creation_time   : 2023-11-12T22:14:51.000000Z\n",
      "      handler_name    : ISO Media file produced by Google Inc.\n",
      "      vendor_id       : [0][0][0][0]\n",
      "Input #1, matroska,webm, from '/Users/prld/gPrld/Music/#ytmusic_script/#COMBINE/Fred again Tiny Desk Concert.webm':\n",
      "  Metadata:\n",
      "    encoder         : google/video-file\n",
      "  Duration: 00:26:44.08, start: -0.007000, bitrate: 147 kb/s\n",
      "  Stream #1:0(eng): Audio: opus, 48000 Hz, stereo, fltp (default)\n",
      "[mp4 @ 0x152f1e3b0] track 1: codec frame size is not set\n",
      "Output #0, mp4, to '/Users/prld/gPrld/Music/#ytmusic_script/#COMBINE/Fred again Tiny Desk Concert - video.mp4':\n",
      "  Metadata:\n",
      "    major_brand     : dash\n",
      "    minor_version   : 0\n",
      "    compatible_brands: iso6avc1mp41\n",
      "    encoder         : Lavf60.16.100\n",
      "  Stream #0:0(und): Video: h264 (High) (avc1 / 0x31637661), yuv420p(tv, bt709, progressive), 1920x1080 [SAR 1:1 DAR 16:9], q=2-31, 0 kb/s, 23.98 fps, 23.98 tbr, 24k tbn (default)\n",
      "    Metadata:\n",
      "      creation_time   : 2023-11-12T22:14:51.000000Z\n",
      "      handler_name    : ISO Media file produced by Google Inc.\n",
      "      vendor_id       : [0][0][0][0]\n",
      "  Stream #0:1(eng): Audio: opus (Opus / 0x7375704F), 48000 Hz, stereo, fltp (default)\n",
      "Stream mapping:\n",
      "  Stream #0:0 -> #0:0 (copy)\n",
      "  Stream #1:0 -> #0:1 (copy)\n",
      "Press [q] to stop, [?] for help\n",
      "[mp4 @ 0x152f1e3b0] Starting second pass: moving the moov atom to the beginning of the file\n",
      "[out#0/mp4 @ 0x152f21840] video:242728kB audio:28271kB subtitle:0kB other streams:0kB global headers:0kB muxing overhead: 0.399175%\n",
      "size=  272081kB time=00:26:44.06 bitrate=1389.5kbits/s speed=2.63e+03x    \n"
     ]
    },
    {
     "data": {
      "text/plain": [
       "'>>> OK'"
      ]
     },
     "execution_count": 17,
     "metadata": {},
     "output_type": "execute_result"
    }
   ],
   "source": [
    "combine_audio_video(\n",
    "    file_name=\"Fred again Tiny Desk Concert\"\n",
    "    ,vid_format=\".mp4\"\n",
    "    ,audio_format=\".webm\"\n",
    ")"
   ]
  },
  {
   "cell_type": "code",
   "execution_count": null,
   "metadata": {},
   "outputs": [],
   "source": [
    "YoutubeAudioDownload(url=url)"
   ]
  },
  {
   "cell_type": "code",
   "execution_count": 13,
   "metadata": {},
   "outputs": [
    {
     "name": "stdout",
     "output_type": "stream",
     "text": [
      ">>>1080p\n",
      "\n",
      ">>>Downloading...\n",
      "\n",
      ">>>Done!\n",
      "\n"
     ]
    }
   ],
   "source": [
    "YoutubeVideoDownload(url=url)"
   ]
  }
 ],
 "metadata": {
  "kernelspec": {
   "display_name": "ytmusic",
   "language": "python",
   "name": "python3"
  },
  "language_info": {
   "codemirror_mode": {
    "name": "ipython",
    "version": 3
   },
   "file_extension": ".py",
   "mimetype": "text/x-python",
   "name": "python",
   "nbconvert_exporter": "python",
   "pygments_lexer": "ipython3",
   "version": "3.10.13"
  }
 },
 "nbformat": 4,
 "nbformat_minor": 2
}
