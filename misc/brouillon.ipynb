{
 "cells": [
  {
   "cell_type": "code",
   "execution_count": 7,
   "metadata": {},
   "outputs": [],
   "source": [
    "# imports\n",
    "import os\n",
    "import subprocess\n",
    "import argparse\n",
    "from pytube import YouTube, Playlist, Channel\n",
    "#from pythumb import Thumbnailyoutube \n",
    "import yt_dlp"
   ]
  },
  {
   "cell_type": "code",
   "execution_count": 2,
   "metadata": {},
   "outputs": [],
   "source": [
    "# --------------------------------------------------------------------------------\n",
    "global COMBINE_PATH, AUDIO_DOWNLOAD_DIR, VIDEO_DOWNLOAD_DIR, VAULT_PATH\n",
    "AUDIO_DOWNLOAD_DIR = \"/Volumes/222EXT/#ytmusic_script/#COMBINE/_audio\"\n",
    "VIDEO_DOWNLOAD_DIR = \"/Volumes/222EXT/#ytmusic_script/#COMBINE/_video\"\n",
    "COMBINE_PATH = \"/Volumes/222EXT/#ytmusic_script/#COMBINE\"\n",
    "VAULT_PATH = \"/Volumes/222EXT/Video/#VIDEO_VAULT\"\n",
    "# --------------------------------------------------------------------------------\n",
    "url = \"https://www.youtube.com/watch?v=4iQmPv_dTI0\"\n",
    "yt = YouTube(url)\n",
    "# --------------------------------------------------------------------------------"
   ]
  },
  {
   "cell_type": "code",
   "execution_count": 3,
   "metadata": {},
   "outputs": [],
   "source": [
    "def YoutubeAudioDownload(url):\n",
    "    '''\n",
    "    Codec : \n",
    "    - alac : apple lossless \n",
    "    - aac base codec\n",
    "    '''    \n",
    "    yt = YouTube(url)\n",
    "    \n",
    "    try:\n",
    "        audio = yt.streams.get_audio_only(subtype=\"webm\")   # opus 160kbps\n",
    "    except:\n",
    "        return \">>> Error audio stream\"\n",
    "\n",
    "    try:\n",
    "        print('>>>Downloading...\\n')\n",
    "        audio.download(AUDIO_DOWNLOAD_DIR)\n",
    "        print('>>>Done!\\n')\n",
    "        \n",
    "        #new_filename=FOLDER+\"/\"+yt.title+\".m4a\"\n",
    "        #codc = \"aac\"\n",
    "            \n",
    "        #default_filename =FOLDER+\"/\"+yt.title+'.'+audio.mime_type.split(\"/\")[1]\n",
    "        #ffmpeg_command = 'ffmpeg -i \"{0}\" -c:a {1} -b:a 160k \"{2}\"'.format(default_filename,codc,new_filename)\n",
    "        #print('>>>FFMPEG is running\\n')\n",
    "        #subprocess.run(ffmpeg_command, shell=True)\n",
    "            \n",
    "    except:\n",
    "        print(f\"pb\")\n",
    "        return\n",
    "\n",
    "    return\n",
    "\n",
    "def YoutubeVideoDownload(url):\n",
    "\n",
    "    yt = YouTube(url)\n",
    "    res = {0:\"2160p\",1:\"1440p\",2:\"1080p\",3:\"720p\"}\n",
    "    mime = {0:\"webm\",1:\"webm\",2:\"mp4\",3:\"mp4\"}\n",
    "    c = 0\n",
    "    \n",
    "    query = yt.streams.filter(only_video = True, res=res[c], mime_type=\"video/\"+mime[c])\n",
    "    while len(query)==0:\n",
    "        c+=1\n",
    "        query = yt.streams.filter(only_video = True, res=res[c], mime_type=\"video/\"+mime[c])\n",
    "    video = query[0]\n",
    "    print(\">>>{0}\\n\".format(res[c]))\n",
    "    \n",
    "    try:\n",
    "        print('>>>Downloading...\\n')\n",
    "        video.download(VIDEO_DOWNLOAD_DIR)\n",
    "        print('>>>Done!\\n')\n",
    "    except:\n",
    "        print(f\"Video failure - {yt.title}\")\n",
    "\n",
    "    return"
   ]
  },
  {
   "cell_type": "code",
   "execution_count": 4,
   "metadata": {},
   "outputs": [],
   "source": [
    "# ----\n",
    "def ytpdl_video(url):\n",
    "    \n",
    "    command = ' yt-dlp -f \"bv\" -P \"{path}\" -o \"%(title)s.%(ext)s\" \"{url}\" --embed-metadata --write-description'.format(path=VIDEO_DOWNLOAD_DIR ,url=url)\n",
    "    print('>>>ytdl is running\\n')\n",
    "    subprocess.run(command, shell=True)\n",
    "    return\n",
    "\n",
    "# ----\n",
    "def ytpdl_auto(url):\n",
    "    \n",
    "    command = ' yt-dlp -f \"bv+ba/b\" -P \"{path}/DL/\" -o \"%(title)s.%(ext)s\" \"{url}\" --embed-metadata --merge-output-format mkv'.format(path=VAULT_PATH ,url=url)\n",
    "    print('>>>ytdl is running\\n')\n",
    "    subprocess.run(command, shell=True)\n",
    "    return\n",
    "\n",
    "# ----\n",
    "def combine_audio_video(file_name,vid_format,audio_format):\n",
    "    \n",
    "    input_video_path = COMBINE_PATH+\"_video/\"+file_name+vid_format\n",
    "    new_filename = COMBINE_PATH+\"_audio/\" + file_name + \" - mixed.mp4\"\n",
    "    input_audio_path = COMBINE_PATH+file_name+audio_format\n",
    "        \n",
    "    ffmpeg_command = 'ffmpeg -i \"{0}\" -i \"{1}\" -c:v copy -c:a copy -movflags faststart \"{2}\" '.format(input_video_path,input_audio_path,new_filename)\n",
    "    \n",
    "    print('>>>FFMPEG is running\\n')\n",
    "    subprocess.run(ffmpeg_command, shell=True)\n",
    "    \n",
    "    return \">>> OK\""
   ]
  },
  {
   "cell_type": "markdown",
   "metadata": {},
   "source": [
    "-------------------"
   ]
  },
  {
   "cell_type": "code",
   "execution_count": null,
   "metadata": {},
   "outputs": [],
   "source": [
    "combine_audio_video(\n",
    "    file_name=\"Jet Fuel\"\n",
    "    ,vid_format=\".webm\"\n",
    "    ,audio_format=\".m4a\"\n",
    ")"
   ]
  },
  {
   "cell_type": "code",
   "execution_count": 5,
   "metadata": {},
   "outputs": [
    {
     "name": "stdout",
     "output_type": "stream",
     "text": [
      ">>>ytdl is running\n",
      "\n",
      "[youtube:tab] Extracting URL: https://www.youtube.com/playlist?list=PL6fy70VcZNviGYaAnZK-eGHQ-j9gnE85N\n",
      "[youtube:tab] PL6fy70VcZNviGYaAnZK-eGHQ-j9gnE85N: Downloading webpage\n",
      "[youtube:tab] PL6fy70VcZNviGYaAnZK-eGHQ-j9gnE85N: Redownloading playlist API JSON with unavailable videos\n",
      "[download] Downloading playlist: Swimming - Mac Miller (Instrumental)\n",
      "[youtube:tab] PL6fy70VcZNviGYaAnZK-eGHQ-j9gnE85N page 1: Downloading API JSON\n",
      "[youtube:tab] PL6fy70VcZNviGYaAnZK-eGHQ-j9gnE85N page 1: Downloading API JSON\n",
      "[youtube:tab] PL6fy70VcZNviGYaAnZK-eGHQ-j9gnE85N page 1: Downloading API JSON\n"
     ]
    },
    {
     "name": "stderr",
     "output_type": "stream",
     "text": [
      "WARNING: [youtube:tab] Incomplete data received. Retrying (1/3)...\n",
      "WARNING: [youtube:tab] Incomplete data received. Retrying (2/3)...\n",
      "WARNING: [youtube:tab] Incomplete data received. Retrying (3/3)...\n"
     ]
    },
    {
     "name": "stdout",
     "output_type": "stream",
     "text": [
      "[youtube:tab] PL6fy70VcZNviGYaAnZK-eGHQ-j9gnE85N page 1: Downloading API JSON\n",
      "[info] Writing playlist description to: /Volumes/222EXT/Video/#VIDEO_VAULT/%(playlist_title)s/Swimming - Mac Miller (Instrumental).description\n"
     ]
    },
    {
     "name": "stderr",
     "output_type": "stream",
     "text": [
      "WARNING: [youtube:tab] Incomplete data received. Giving up after 3 retries\n"
     ]
    },
    {
     "name": "stdout",
     "output_type": "stream",
     "text": [
      "[youtube:tab] Playlist Swimming - Mac Miller (Instrumental): Downloading 11 items of 11\n",
      "[download] Downloading item 1 of 11\n",
      "[youtube] Extracting URL: https://www.youtube.com/watch?v=iaUqFGP_4mk\n",
      "[youtube] iaUqFGP_4mk: Downloading webpage\n",
      "[youtube] iaUqFGP_4mk: Downloading ios player API JSON\n",
      "[youtube] iaUqFGP_4mk: Downloading android player API JSON\n"
     ]
    },
    {
     "name": "stderr",
     "output_type": "stream",
     "text": [
      "WARNING: [youtube] Skipping player responses from android clients (got player responses for video \"aQvGIIdgFDM\" instead of \"iaUqFGP_4mk\")\n"
     ]
    },
    {
     "name": "stdout",
     "output_type": "stream",
     "text": [
      "[youtube] iaUqFGP_4mk: Downloading m3u8 information\n",
      "[info] iaUqFGP_4mk: Downloading 1 format(s): 303+251\n",
      "[info] Writing video description to: /Volumes/222EXT/Video/#VIDEO_VAULT/%(playlist_title)s/Come Back to Earth - Mac Miller (Official Instrumental).description\n",
      "[download] Destination: /Volumes/222EXT/Video/#VIDEO_VAULT/%(playlist_title)s/Come Back to Earth - Mac Miller (Official Instrumental).f303.webm\n",
      "[download] 100% of    5.18MiB in 00:00:00 at 11.37MiB/s  \n",
      "[download] Destination: /Volumes/222EXT/Video/#VIDEO_VAULT/%(playlist_title)s/Come Back to Earth - Mac Miller (Official Instrumental).f251.webm\n",
      "[download] 100% of    2.89MiB in 00:00:00 at 14.85MiB/s    \n",
      "[Merger] Merging formats into \"/Volumes/222EXT/Video/#VIDEO_VAULT/%(playlist_title)s/Come Back to Earth - Mac Miller (Official Instrumental).mkv\"\n",
      "Deleting original file /Volumes/222EXT/Video/#VIDEO_VAULT/%(playlist_title)s/Come Back to Earth - Mac Miller (Official Instrumental).f303.webm (pass -k to keep)\n",
      "Deleting original file /Volumes/222EXT/Video/#VIDEO_VAULT/%(playlist_title)s/Come Back to Earth - Mac Miller (Official Instrumental).f251.webm (pass -k to keep)\n",
      "[Metadata] Adding metadata to \"/Volumes/222EXT/Video/#VIDEO_VAULT/%(playlist_title)s/Come Back to Earth - Mac Miller (Official Instrumental).mkv\"\n",
      "[download] Downloading item 2 of 11\n",
      "[youtube] Extracting URL: https://www.youtube.com/watch?v=tqrhA2pV440\n",
      "[youtube] tqrhA2pV440: Downloading webpage\n",
      "[youtube] tqrhA2pV440: Downloading ios player API JSON\n",
      "[youtube] tqrhA2pV440: Downloading android player API JSON\n"
     ]
    },
    {
     "name": "stderr",
     "output_type": "stream",
     "text": [
      "WARNING: [youtube] Skipping player responses from android clients (got player responses for video \"aQvGIIdgFDM\" instead of \"tqrhA2pV440\")\n"
     ]
    },
    {
     "name": "stdout",
     "output_type": "stream",
     "text": [
      "[youtube] tqrhA2pV440: Downloading m3u8 information\n",
      "[info] tqrhA2pV440: Downloading 1 format(s): 303+251\n",
      "[info] Writing video description to: /Volumes/222EXT/Video/#VIDEO_VAULT/%(playlist_title)s/Hurt Feelings - Mac Miller (Official Instrumental).description\n",
      "[download] Destination: /Volumes/222EXT/Video/#VIDEO_VAULT/%(playlist_title)s/Hurt Feelings - Mac Miller (Official Instrumental).f303.webm\n",
      "[download] 100% of   26.70MiB in 00:00:02 at 13.08MiB/s    \n",
      "[download] Destination: /Volumes/222EXT/Video/#VIDEO_VAULT/%(playlist_title)s/Hurt Feelings - Mac Miller (Official Instrumental).f251.webm\n",
      "[download] 100% of    4.31MiB in 00:00:00 at 6.78MiB/s   \n",
      "[Merger] Merging formats into \"/Volumes/222EXT/Video/#VIDEO_VAULT/%(playlist_title)s/Hurt Feelings - Mac Miller (Official Instrumental).mkv\"\n",
      "Deleting original file /Volumes/222EXT/Video/#VIDEO_VAULT/%(playlist_title)s/Hurt Feelings - Mac Miller (Official Instrumental).f303.webm (pass -k to keep)\n",
      "Deleting original file /Volumes/222EXT/Video/#VIDEO_VAULT/%(playlist_title)s/Hurt Feelings - Mac Miller (Official Instrumental).f251.webm (pass -k to keep)\n",
      "[Metadata] Adding metadata to \"/Volumes/222EXT/Video/#VIDEO_VAULT/%(playlist_title)s/Hurt Feelings - Mac Miller (Official Instrumental).mkv\"\n",
      "[download] Downloading item 3 of 11\n",
      "[youtube] Extracting URL: https://www.youtube.com/watch?v=0urE4l4XV98\n",
      "[youtube] 0urE4l4XV98: Downloading webpage\n",
      "[youtube] 0urE4l4XV98: Downloading ios player API JSON\n",
      "[youtube] 0urE4l4XV98: Downloading android player API JSON\n"
     ]
    },
    {
     "name": "stderr",
     "output_type": "stream",
     "text": [
      "WARNING: [youtube] Skipping player responses from android clients (got player responses for video \"aQvGIIdgFDM\" instead of \"0urE4l4XV98\")\n"
     ]
    },
    {
     "name": "stdout",
     "output_type": "stream",
     "text": [
      "[youtube] 0urE4l4XV98: Downloading m3u8 information\n",
      "[info] 0urE4l4XV98: Downloading 1 format(s): 303+251\n",
      "[info] Writing video description to: /Volumes/222EXT/Video/#VIDEO_VAULT/%(playlist_title)s/What's the Use？ - Mac Miller (Official Instrumental).description\n",
      "[download] Destination: /Volumes/222EXT/Video/#VIDEO_VAULT/%(playlist_title)s/What's the Use？ - Mac Miller (Official Instrumental).f303.webm\n",
      "[download] 100% of   22.27MiB in 00:00:01 at 12.60MiB/s    \n",
      "[download] Destination: /Volumes/222EXT/Video/#VIDEO_VAULT/%(playlist_title)s/What's the Use？ - Mac Miller (Official Instrumental).f251.webm\n",
      "[download] 100% of    4.53MiB in 00:00:00 at 11.01MiB/s    \n",
      "[Merger] Merging formats into \"/Volumes/222EXT/Video/#VIDEO_VAULT/%(playlist_title)s/What's the Use？ - Mac Miller (Official Instrumental).mkv\"\n",
      "Deleting original file /Volumes/222EXT/Video/#VIDEO_VAULT/%(playlist_title)s/What's the Use？ - Mac Miller (Official Instrumental).f251.webm (pass -k to keep)\n",
      "Deleting original file /Volumes/222EXT/Video/#VIDEO_VAULT/%(playlist_title)s/What's the Use？ - Mac Miller (Official Instrumental).f303.webm (pass -k to keep)\n",
      "[Metadata] Adding metadata to \"/Volumes/222EXT/Video/#VIDEO_VAULT/%(playlist_title)s/What's the Use？ - Mac Miller (Official Instrumental).mkv\"\n",
      "[download] Downloading item 4 of 11\n",
      "[youtube] Extracting URL: https://www.youtube.com/watch?v=0Q5gvMLY2Lc\n",
      "[youtube] 0Q5gvMLY2Lc: Downloading webpage\n",
      "[youtube] 0Q5gvMLY2Lc: Downloading ios player API JSON\n",
      "[youtube] 0Q5gvMLY2Lc: Downloading android player API JSON\n"
     ]
    },
    {
     "name": "stderr",
     "output_type": "stream",
     "text": [
      "WARNING: [youtube] Skipping player responses from android clients (got player responses for video \"aQvGIIdgFDM\" instead of \"0Q5gvMLY2Lc\")\n"
     ]
    },
    {
     "name": "stdout",
     "output_type": "stream",
     "text": [
      "[youtube] 0Q5gvMLY2Lc: Downloading m3u8 information\n",
      "[info] 0Q5gvMLY2Lc: Downloading 1 format(s): 299+251\n",
      "[info] Writing video description to: /Volumes/222EXT/Video/#VIDEO_VAULT/%(playlist_title)s/Perfecto - Mac Miller (Official Instrumental).description\n",
      "[download] Destination: /Volumes/222EXT/Video/#VIDEO_VAULT/%(playlist_title)s/Perfecto - Mac Miller (Official Instrumental).f299.mp4\n",
      "[download] 100% of   29.08MiB in 00:00:02 at 12.53MiB/s    \n",
      "[download] Destination: /Volumes/222EXT/Video/#VIDEO_VAULT/%(playlist_title)s/Perfecto - Mac Miller (Official Instrumental).f251.webm\n",
      "[download] 100% of    3.71MiB in 00:00:00 at 6.85MiB/s     \n",
      "[Merger] Merging formats into \"/Volumes/222EXT/Video/#VIDEO_VAULT/%(playlist_title)s/Perfecto - Mac Miller (Official Instrumental).mkv\"\n",
      "Deleting original file /Volumes/222EXT/Video/#VIDEO_VAULT/%(playlist_title)s/Perfecto - Mac Miller (Official Instrumental).f299.mp4 (pass -k to keep)\n",
      "Deleting original file /Volumes/222EXT/Video/#VIDEO_VAULT/%(playlist_title)s/Perfecto - Mac Miller (Official Instrumental).f251.webm (pass -k to keep)\n",
      "[Metadata] Adding metadata to \"/Volumes/222EXT/Video/#VIDEO_VAULT/%(playlist_title)s/Perfecto - Mac Miller (Official Instrumental).mkv\"\n",
      "[download] Downloading item 5 of 11\n",
      "[youtube] Extracting URL: https://www.youtube.com/watch?v=STnHUt0giCE\n",
      "[youtube] STnHUt0giCE: Downloading webpage\n",
      "[youtube] STnHUt0giCE: Downloading ios player API JSON\n",
      "[youtube] STnHUt0giCE: Downloading android player API JSON\n"
     ]
    },
    {
     "name": "stderr",
     "output_type": "stream",
     "text": [
      "WARNING: [youtube] Skipping player responses from android clients (got player responses for video \"aQvGIIdgFDM\" instead of \"STnHUt0giCE\")\n"
     ]
    },
    {
     "name": "stdout",
     "output_type": "stream",
     "text": [
      "[youtube] STnHUt0giCE: Downloading m3u8 information\n",
      "[info] STnHUt0giCE: Downloading 1 format(s): 303+251\n",
      "[info] Writing video description to: /Volumes/222EXT/Video/#VIDEO_VAULT/%(playlist_title)s/Self Care - Mac Miller (Official Instrumental).description\n",
      "[download] Destination: /Volumes/222EXT/Video/#VIDEO_VAULT/%(playlist_title)s/Self Care - Mac Miller (Official Instrumental).f303.webm\n",
      "[download] 100% of   25.78MiB in 00:00:01 at 14.36MiB/s    \n",
      "[download] Destination: /Volumes/222EXT/Video/#VIDEO_VAULT/%(playlist_title)s/Self Care - Mac Miller (Official Instrumental).f251.webm\n",
      "[download] 100% of    6.07MiB in 00:00:00 at 6.40MiB/s   \n",
      "[Merger] Merging formats into \"/Volumes/222EXT/Video/#VIDEO_VAULT/%(playlist_title)s/Self Care - Mac Miller (Official Instrumental).mkv\"\n",
      "Deleting original file /Volumes/222EXT/Video/#VIDEO_VAULT/%(playlist_title)s/Self Care - Mac Miller (Official Instrumental).f251.webm (pass -k to keep)\n",
      "Deleting original file /Volumes/222EXT/Video/#VIDEO_VAULT/%(playlist_title)s/Self Care - Mac Miller (Official Instrumental).f303.webm (pass -k to keep)\n",
      "[Metadata] Adding metadata to \"/Volumes/222EXT/Video/#VIDEO_VAULT/%(playlist_title)s/Self Care - Mac Miller (Official Instrumental).mkv\"\n",
      "[download] Downloading item 6 of 11\n",
      "[youtube] Extracting URL: https://www.youtube.com/watch?v=GYOxHrgY060\n",
      "[youtube] GYOxHrgY060: Downloading webpage\n",
      "[youtube] GYOxHrgY060: Downloading ios player API JSON\n",
      "[youtube] GYOxHrgY060: Downloading android player API JSON\n"
     ]
    },
    {
     "name": "stderr",
     "output_type": "stream",
     "text": [
      "WARNING: [youtube] Skipping player responses from android clients (got player responses for video \"aQvGIIdgFDM\" instead of \"GYOxHrgY060\")\n"
     ]
    },
    {
     "name": "stdout",
     "output_type": "stream",
     "text": [
      "[youtube] GYOxHrgY060: Downloading m3u8 information\n",
      "[info] GYOxHrgY060: Downloading 1 format(s): 303+251\n",
      "[info] Writing video description to: /Volumes/222EXT/Video/#VIDEO_VAULT/%(playlist_title)s/Wings - Mac Miller (Official Instrumental).description\n",
      "[download] Destination: /Volumes/222EXT/Video/#VIDEO_VAULT/%(playlist_title)s/Wings - Mac Miller (Official Instrumental).f303.webm\n",
      "[download] 100% of   26.58MiB in 00:00:02 at 12.61MiB/s    \n",
      "[download] Destination: /Volumes/222EXT/Video/#VIDEO_VAULT/%(playlist_title)s/Wings - Mac Miller (Official Instrumental).f251.webm\n",
      "[download] 100% of    3.72MiB in 00:00:00 at 10.26MiB/s    \n",
      "[Merger] Merging formats into \"/Volumes/222EXT/Video/#VIDEO_VAULT/%(playlist_title)s/Wings - Mac Miller (Official Instrumental).mkv\"\n",
      "Deleting original file /Volumes/222EXT/Video/#VIDEO_VAULT/%(playlist_title)s/Wings - Mac Miller (Official Instrumental).f251.webm (pass -k to keep)\n",
      "Deleting original file /Volumes/222EXT/Video/#VIDEO_VAULT/%(playlist_title)s/Wings - Mac Miller (Official Instrumental).f303.webm (pass -k to keep)\n",
      "[Metadata] Adding metadata to \"/Volumes/222EXT/Video/#VIDEO_VAULT/%(playlist_title)s/Wings - Mac Miller (Official Instrumental).mkv\"\n",
      "[download] Downloading item 7 of 11\n",
      "[youtube] Extracting URL: https://www.youtube.com/watch?v=zaas98hALf4\n",
      "[youtube] zaas98hALf4: Downloading webpage\n",
      "[youtube] zaas98hALf4: Downloading ios player API JSON\n",
      "[youtube] zaas98hALf4: Downloading android player API JSON\n"
     ]
    },
    {
     "name": "stderr",
     "output_type": "stream",
     "text": [
      "WARNING: [youtube] Skipping player responses from android clients (got player responses for video \"aQvGIIdgFDM\" instead of \"zaas98hALf4\")\n"
     ]
    },
    {
     "name": "stdout",
     "output_type": "stream",
     "text": [
      "[youtube] zaas98hALf4: Downloading m3u8 information\n",
      "[info] zaas98hALf4: Downloading 1 format(s): 299+251\n",
      "[info] Writing video description to: /Volumes/222EXT/Video/#VIDEO_VAULT/%(playlist_title)s/Ladders - Mac Miller (Official Audio).description\n",
      "[download] Destination: /Volumes/222EXT/Video/#VIDEO_VAULT/%(playlist_title)s/Ladders - Mac Miller (Official Audio).f299.mp4\n",
      "[download] 100% of   61.83MiB in 00:00:03 at 19.15MiB/s    \n",
      "[download] Destination: /Volumes/222EXT/Video/#VIDEO_VAULT/%(playlist_title)s/Ladders - Mac Miller (Official Audio).f251.webm\n",
      "[download] 100% of    4.72MiB in 00:00:00 at 17.30MiB/s    \n",
      "[Merger] Merging formats into \"/Volumes/222EXT/Video/#VIDEO_VAULT/%(playlist_title)s/Ladders - Mac Miller (Official Audio).mkv\"\n",
      "Deleting original file /Volumes/222EXT/Video/#VIDEO_VAULT/%(playlist_title)s/Ladders - Mac Miller (Official Audio).f251.webm (pass -k to keep)\n",
      "Deleting original file /Volumes/222EXT/Video/#VIDEO_VAULT/%(playlist_title)s/Ladders - Mac Miller (Official Audio).f299.mp4 (pass -k to keep)\n",
      "[Metadata] Adding metadata to \"/Volumes/222EXT/Video/#VIDEO_VAULT/%(playlist_title)s/Ladders - Mac Miller (Official Audio).mkv\"\n",
      "[download] Downloading item 8 of 11\n",
      "[youtube] Extracting URL: https://www.youtube.com/watch?v=GmmRi05Dp5k\n",
      "[youtube] GmmRi05Dp5k: Downloading webpage\n",
      "[youtube] GmmRi05Dp5k: Downloading ios player API JSON\n",
      "[youtube] GmmRi05Dp5k: Downloading android player API JSON\n"
     ]
    },
    {
     "name": "stderr",
     "output_type": "stream",
     "text": [
      "WARNING: [youtube] Skipping player responses from android clients (got player responses for video \"aQvGIIdgFDM\" instead of \"GmmRi05Dp5k\")\n"
     ]
    },
    {
     "name": "stdout",
     "output_type": "stream",
     "text": [
      "[youtube] GmmRi05Dp5k: Downloading m3u8 information\n",
      "[info] GmmRi05Dp5k: Downloading 1 format(s): 299+251\n",
      "[info] Writing video description to: /Volumes/222EXT/Video/#VIDEO_VAULT/%(playlist_title)s/Small Worlds - Mac Miller (Official Instrumental).description\n",
      "[download] Destination: /Volumes/222EXT/Video/#VIDEO_VAULT/%(playlist_title)s/Small Worlds - Mac Miller (Official Instrumental).f299.mp4\n",
      "[download] 100% of   46.38MiB in 00:00:03 at 12.59MiB/s    \n",
      "[download] Destination: /Volumes/222EXT/Video/#VIDEO_VAULT/%(playlist_title)s/Small Worlds - Mac Miller (Official Instrumental).f251.webm\n",
      "[download] 100% of    4.93MiB in 00:00:00 at 9.49MiB/s   \n",
      "[Merger] Merging formats into \"/Volumes/222EXT/Video/#VIDEO_VAULT/%(playlist_title)s/Small Worlds - Mac Miller (Official Instrumental).mkv\"\n",
      "Deleting original file /Volumes/222EXT/Video/#VIDEO_VAULT/%(playlist_title)s/Small Worlds - Mac Miller (Official Instrumental).f299.mp4 (pass -k to keep)\n",
      "Deleting original file /Volumes/222EXT/Video/#VIDEO_VAULT/%(playlist_title)s/Small Worlds - Mac Miller (Official Instrumental).f251.webm (pass -k to keep)\n",
      "[Metadata] Adding metadata to \"/Volumes/222EXT/Video/#VIDEO_VAULT/%(playlist_title)s/Small Worlds - Mac Miller (Official Instrumental).mkv\"\n",
      "[download] Downloading item 9 of 11\n",
      "[youtube] Extracting URL: https://www.youtube.com/watch?v=uKB8ZJqfhdY\n",
      "[youtube] uKB8ZJqfhdY: Downloading webpage\n",
      "[youtube] uKB8ZJqfhdY: Downloading ios player API JSON\n",
      "[youtube] uKB8ZJqfhdY: Downloading android player API JSON\n"
     ]
    },
    {
     "name": "stderr",
     "output_type": "stream",
     "text": [
      "WARNING: [youtube] Skipping player responses from android clients (got player responses for video \"aQvGIIdgFDM\" instead of \"uKB8ZJqfhdY\")\n"
     ]
    },
    {
     "name": "stdout",
     "output_type": "stream",
     "text": [
      "[youtube] uKB8ZJqfhdY: Downloading m3u8 information\n",
      "[info] uKB8ZJqfhdY: Downloading 1 format(s): 299+251\n",
      "[info] Writing video description to: /Volumes/222EXT/Video/#VIDEO_VAULT/%(playlist_title)s/Conversation Pt. 1 - Mac Miller (Official Instrumental).description\n",
      "[download] Destination: /Volumes/222EXT/Video/#VIDEO_VAULT/%(playlist_title)s/Conversation Pt. 1 - Mac Miller (Official Instrumental).f299.mp4\n",
      "[download] 100% of   33.92MiB in 00:00:02 at 14.23MiB/s    \n",
      "[download] Destination: /Volumes/222EXT/Video/#VIDEO_VAULT/%(playlist_title)s/Conversation Pt. 1 - Mac Miller (Official Instrumental).f251.webm\n",
      "[download] 100% of    3.57MiB in 00:00:00 at 11.29MiB/s  \n",
      "[Merger] Merging formats into \"/Volumes/222EXT/Video/#VIDEO_VAULT/%(playlist_title)s/Conversation Pt. 1 - Mac Miller (Official Instrumental).mkv\"\n",
      "Deleting original file /Volumes/222EXT/Video/#VIDEO_VAULT/%(playlist_title)s/Conversation Pt. 1 - Mac Miller (Official Instrumental).f299.mp4 (pass -k to keep)\n",
      "Deleting original file /Volumes/222EXT/Video/#VIDEO_VAULT/%(playlist_title)s/Conversation Pt. 1 - Mac Miller (Official Instrumental).f251.webm (pass -k to keep)\n",
      "[Metadata] Adding metadata to \"/Volumes/222EXT/Video/#VIDEO_VAULT/%(playlist_title)s/Conversation Pt. 1 - Mac Miller (Official Instrumental).mkv\"\n",
      "[download] Downloading item 10 of 11\n",
      "[youtube] Extracting URL: https://www.youtube.com/watch?v=2P9yUDw7ZyA\n",
      "[youtube] 2P9yUDw7ZyA: Downloading webpage\n",
      "[youtube] 2P9yUDw7ZyA: Downloading ios player API JSON\n",
      "[youtube] 2P9yUDw7ZyA: Downloading android player API JSON\n"
     ]
    },
    {
     "name": "stderr",
     "output_type": "stream",
     "text": [
      "WARNING: [youtube] Skipping player responses from android clients (got player responses for video \"aQvGIIdgFDM\" instead of \"2P9yUDw7ZyA\")\n"
     ]
    },
    {
     "name": "stdout",
     "output_type": "stream",
     "text": [
      "[youtube] 2P9yUDw7ZyA: Downloading m3u8 information\n",
      "[info] 2P9yUDw7ZyA: Downloading 1 format(s): 303+251\n",
      "[info] Writing video description to: /Volumes/222EXT/Video/#VIDEO_VAULT/%(playlist_title)s/Jet Fuel - Mac Miller (Official Instrumental).description\n",
      "[download] Destination: /Volumes/222EXT/Video/#VIDEO_VAULT/%(playlist_title)s/Jet Fuel - Mac Miller (Official Instrumental).f303.webm\n",
      "[download] 100% of   15.74MiB in 00:00:00 at 16.00MiB/s    \n",
      "[download] Destination: /Volumes/222EXT/Video/#VIDEO_VAULT/%(playlist_title)s/Jet Fuel - Mac Miller (Official Instrumental).f251.webm\n",
      "[download] 100% of    4.77MiB in 00:00:00 at 15.05MiB/s  \n",
      "[Merger] Merging formats into \"/Volumes/222EXT/Video/#VIDEO_VAULT/%(playlist_title)s/Jet Fuel - Mac Miller (Official Instrumental).mkv\"\n",
      "Deleting original file /Volumes/222EXT/Video/#VIDEO_VAULT/%(playlist_title)s/Jet Fuel - Mac Miller (Official Instrumental).f303.webm (pass -k to keep)\n",
      "Deleting original file /Volumes/222EXT/Video/#VIDEO_VAULT/%(playlist_title)s/Jet Fuel - Mac Miller (Official Instrumental).f251.webm (pass -k to keep)\n",
      "[Metadata] Adding metadata to \"/Volumes/222EXT/Video/#VIDEO_VAULT/%(playlist_title)s/Jet Fuel - Mac Miller (Official Instrumental).mkv\"\n",
      "[download] Downloading item 11 of 11\n",
      "[youtube] Extracting URL: https://www.youtube.com/watch?v=ItIwLFYhA-s\n",
      "[youtube] ItIwLFYhA-s: Downloading webpage\n",
      "[youtube] ItIwLFYhA-s: Downloading ios player API JSON\n",
      "[youtube] ItIwLFYhA-s: Downloading android player API JSON\n"
     ]
    },
    {
     "name": "stderr",
     "output_type": "stream",
     "text": [
      "WARNING: [youtube] Skipping player responses from android clients (got player responses for video \"aQvGIIdgFDM\" instead of \"ItIwLFYhA-s\")\n"
     ]
    },
    {
     "name": "stdout",
     "output_type": "stream",
     "text": [
      "[youtube] ItIwLFYhA-s: Downloading m3u8 information\n",
      "[info] ItIwLFYhA-s: Downloading 1 format(s): 303+251\n",
      "[info] Writing video description to: /Volumes/222EXT/Video/#VIDEO_VAULT/%(playlist_title)s/So It Goes - Mac Miller (Official Instrumental).description\n",
      "[download] Destination: /Volumes/222EXT/Video/#VIDEO_VAULT/%(playlist_title)s/So It Goes - Mac Miller (Official Instrumental).f303.webm\n",
      "[download] 100% of   24.91MiB in 00:00:02 at 10.42MiB/s    \n",
      "[download] Destination: /Volumes/222EXT/Video/#VIDEO_VAULT/%(playlist_title)s/So It Goes - Mac Miller (Official Instrumental).f251.webm\n",
      "[download] 100% of    4.31MiB in 00:00:00 at 7.06MiB/s   \n",
      "[Merger] Merging formats into \"/Volumes/222EXT/Video/#VIDEO_VAULT/%(playlist_title)s/So It Goes - Mac Miller (Official Instrumental).mkv\"\n",
      "Deleting original file /Volumes/222EXT/Video/#VIDEO_VAULT/%(playlist_title)s/So It Goes - Mac Miller (Official Instrumental).f251.webm (pass -k to keep)\n",
      "Deleting original file /Volumes/222EXT/Video/#VIDEO_VAULT/%(playlist_title)s/So It Goes - Mac Miller (Official Instrumental).f303.webm (pass -k to keep)\n",
      "[Metadata] Adding metadata to \"/Volumes/222EXT/Video/#VIDEO_VAULT/%(playlist_title)s/So It Goes - Mac Miller (Official Instrumental).mkv\"\n",
      "[download] Finished downloading playlist: Swimming - Mac Miller (Instrumental)\n"
     ]
    }
   ],
   "source": [
    "ytpdl_auto(url=\"https://www.youtube.com/playlist?list=PL6fy70VcZNviGYaAnZK-eGHQ-j9gnE85N\")"
   ]
  }
 ],
 "metadata": {
  "kernelspec": {
   "display_name": "ytmusic",
   "language": "python",
   "name": "python3"
  },
  "language_info": {
   "codemirror_mode": {
    "name": "ipython",
    "version": 3
   },
   "file_extension": ".py",
   "mimetype": "text/x-python",
   "name": "python",
   "nbconvert_exporter": "python",
   "pygments_lexer": "ipython3",
   "version": "3.10.13"
  }
 },
 "nbformat": 4,
 "nbformat_minor": 2
}
