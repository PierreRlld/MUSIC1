{
 "cells": [
  {
   "cell_type": "code",
   "execution_count": 1,
   "metadata": {},
   "outputs": [],
   "source": [
    "# imports\n",
    "import os\n",
    "import subprocess\n",
    "import argparse\n",
    "from pytube import YouTube, Playlist, Channel\n",
    "#from pythumb import Thumbnailyoutube \n",
    "import yt_dlp"
   ]
  },
  {
   "cell_type": "code",
   "execution_count": 2,
   "metadata": {},
   "outputs": [],
   "source": [
    "# --------------------------------------------------------------------------------\n",
    "global COMBINE_PATH, AUDIO_DOWNLOAD_DIR, VIDEO_DOWNLOAD_DIR, VAULT_PATH\n",
    "AUDIO_DOWNLOAD_DIR = \"/Volumes/222EXT/#ytmusic_script/_audio/\"\n",
    "VIDEO_DOWNLOAD_DIR = \"/Volumes/222EXT/#ytmusic_script/_video/\"\n",
    "COMBINE_PATH = \"/Volumes/222EXT/#ytmusic_script/#COMBINE/\"\n",
    "VAULT_PATH = \"/Volumes/222EXT/Video_vault\"\n",
    "# --------------------------------------------------------------------------------\n",
    "test = \"https://www.youtube.com/watch?v=CQZlhr4JYRs\"\n",
    "yt = YouTube(test)\n",
    "# --------------------------------------------------------------------------------"
   ]
  },
  {
   "cell_type": "code",
   "execution_count": 3,
   "metadata": {},
   "outputs": [],
   "source": [
    "# ----\n",
    "def ytpdl_video(url, path=VIDEO_DOWNLOAD_DIR):\n",
    "    \n",
    "    #command = ' yt-dlp -f \"bv\" -P \"{path}\" -o \"%(title)s.%(ext)s\" \"{url}\" --embed-metadata --write-description'.format(path=VIDEO_DOWNLOAD_DIR ,url=url)\n",
    "    command = ' yt-dlp -f \"bv\" -P \"{path}\" -o \"%(title)s.%(ext)s\" \"{url}\" --embed-thumbnail --embed-metadata'.format(path=path ,url=url)\n",
    "    print('>>>ytdl is running\\n')\n",
    "    subprocess.run(command, shell=True)\n",
    "    return\n",
    "\n",
    "def ytpdl_audio(url, path=AUDIO_DOWNLOAD_DIR):\n",
    "    \n",
    "    #command = ' yt-dlp -f \"ba\" -P \"{path}\" -o \"%(title)s.%(ext)s\" \"{url}\" --embed-metadata --write-description'.format(path=AUDIO_DOWNLOAD_DIR ,url=url)\n",
    "    command = ' yt-dlp -f \"ba\" -x --audio-format mp3 -P \"{path}\" -o \"%(title)s.%(ext)s\" \"{url}\" --embed-thumbnail --embed-metadata'.format(path=path ,url=url)\n",
    "    print('>>>ytdl is running\\n')\n",
    "    subprocess.run(command, shell=True)\n",
    "    return\n",
    "\n",
    "# ----\n",
    "def ytpdl_auto(url, path=VAULT_PATH, track=False):\n",
    "    \n",
    "    # youtube-dl -ciw --download-archive videolist.txt --youtube-skip-dash-manifest --write-description --write-info-json --write-thumbnail -o \"%(uploader)s/%(playlist_title)s/%(title)s - %(id)s - %(format)s.%(ext)s\" \"$1\"\n",
    "    if track:\n",
    "        command = ' yt-dlp --download-archive videolist.txt --youtube-skip-dash-manifest --embed-thumbnail -f \"bv+ba/b\" -P \"{path}/#DL/\" -o \"%(title)s.%(ext)s\" -v --embed-subs --sub-lang en \"{url}\" --embed-metadata --merge-output-format mkv'.format(path=path ,url=url)\n",
    "    else:\n",
    "        command = ' yt-dlp --youtube-skip-dash-manifest --embed-thumbnail -f \"bv+ba/b\" -P \"{path}/#DL/\" -o \"%(title)s.%(ext)s\" -v --embed-subs --sub-lang en \"{url}\" --embed-metadata --merge-output-format mkv'.format(path=path ,url=url)\n",
    "    print('>>>ytdl is running\\n')\n",
    "    subprocess.run(command, shell=True)\n",
    "    return\n",
    "\n",
    "# --- \n",
    "def ytpdl(url,mode=\"auto\",path=None,track=False):\n",
    "    \n",
    "    if mode==\"all\":\n",
    "        ytpdl_auto(url=url,path=path, track=track)\n",
    "    elif mode==\"video\":\n",
    "        ytpdl_video(url=url,path=path)\n",
    "    elif mode==\"audio\":\n",
    "        ytpdl_audio(url=url,path=path)\n",
    "    else:\n",
    "        print(\"wrong mode\")\n",
    "        \n",
    "    return\n",
    "        \n",
    "\n",
    "# ----\n",
    "def combine_audio_video(file_name,vid_format,audio_format):\n",
    "    \n",
    "    input_video_path = COMBINE_PATH+\"_video/\"+file_name+vid_format\n",
    "    new_filename = COMBINE_PATH+\"_audio/\" + file_name + \" - mixed.mp4\"\n",
    "    input_audio_path = COMBINE_PATH+file_name+audio_format\n",
    "        \n",
    "    ffmpeg_command = 'ffmpeg -i \"{0}\" -i \"{1}\" -c:v copy -c:a copy -movflags faststart \"{2}\" '.format(input_video_path,input_audio_path,new_filename)\n",
    "    \n",
    "    print('>>>FFMPEG is running\\n')\n",
    "    subprocess.run(ffmpeg_command, shell=True)\n",
    "    \n",
    "    return \">>> OK\""
   ]
  },
  {
   "cell_type": "markdown",
   "metadata": {},
   "source": [
    "-------------------"
   ]
  },
  {
   "cell_type": "code",
   "execution_count": 4,
   "metadata": {},
   "outputs": [],
   "source": [
    "dl_list = [\n",
    "    \"https://www.youtube.com/watch?v=SpNA62HWtTA\"\n",
    "]"
   ]
  },
  {
   "cell_type": "code",
   "execution_count": null,
   "metadata": {},
   "outputs": [],
   "source": [
    "for el in dl_list:\n",
    "    # all / audio / video\n",
    "    ytpdl(url=el,mode=\"audio\",path=\"/Volumes/222EXT/Music_vault/[2] Kanye West/_EDIT\")"
   ]
  },
  {
   "cell_type": "markdown",
   "metadata": {},
   "source": [
    "-------------------"
   ]
  },
  {
   "cell_type": "markdown",
   "metadata": {},
   "source": [
    "-------------------"
   ]
  },
  {
   "cell_type": "code",
   "execution_count": null,
   "metadata": {},
   "outputs": [],
   "source": [
    "def YoutubeAudioDownload(url):\n",
    "    '''\n",
    "    Codec : \n",
    "    - alac : apple lossless \n",
    "    - aac base codec\n",
    "    '''    \n",
    "    yt = YouTube(url)\n",
    "    \n",
    "    try:\n",
    "        audio = yt.streams.get_audio_only(subtype=\"webm\")   # opus 160kbps\n",
    "    except:\n",
    "        return \">>> Error audio stream\"\n",
    "\n",
    "    try:\n",
    "        print('>>>Downloading...\\n')\n",
    "        audio.download(AUDIO_DOWNLOAD_DIR)\n",
    "        print('>>>Done!\\n')\n",
    "        \n",
    "        #new_filename=FOLDER+\"/\"+yt.title+\".m4a\"\n",
    "        #codc = \"aac\"\n",
    "            \n",
    "        #default_filename =FOLDER+\"/\"+yt.title+'.'+audio.mime_type.split(\"/\")[1]\n",
    "        #ffmpeg_command = 'ffmpeg -i \"{0}\" -c:a {1} -b:a 160k \"{2}\"'.format(default_filename,codc,new_filename)\n",
    "        #print('>>>FFMPEG is running\\n')\n",
    "        #subprocess.run(ffmpeg_command, shell=True)\n",
    "            \n",
    "    except:\n",
    "        print(f\"pb\")\n",
    "        return\n",
    "\n",
    "    return\n",
    "\n",
    "def YoutubeVideoDownload(url):\n",
    "\n",
    "    yt = YouTube(url)\n",
    "    res = {0:\"2160p\",1:\"1440p\",2:\"1080p\",3:\"720p\"}\n",
    "    mime = {0:\"webm\",1:\"webm\",2:\"mp4\",3:\"mp4\"}\n",
    "    c = 0\n",
    "    \n",
    "    query = yt.streams.filter(only_video = True, res=res[c], mime_type=\"video/\"+mime[c])\n",
    "    while len(query)==0:\n",
    "        c+=1\n",
    "        query = yt.streams.filter(only_video = True, res=res[c], mime_type=\"video/\"+mime[c])\n",
    "    video = query[0]\n",
    "    print(\">>>{0}\\n\".format(res[c]))\n",
    "    \n",
    "    try:\n",
    "        print('>>>Downloading...\\n')\n",
    "        video.download(VIDEO_DOWNLOAD_DIR)\n",
    "        print('>>>Done!\\n')\n",
    "    except:\n",
    "        print(f\"Video failure - {yt.title}\")\n",
    "\n",
    "    return"
   ]
  }
 ],
 "metadata": {
  "kernelspec": {
   "display_name": "ytmusic",
   "language": "python",
   "name": "python3"
  },
  "language_info": {
   "codemirror_mode": {
    "name": "ipython",
    "version": 3
   },
   "file_extension": ".py",
   "mimetype": "text/x-python",
   "name": "python",
   "nbconvert_exporter": "python",
   "pygments_lexer": "ipython3",
   "version": "3.1.undefined"
  }
 },
 "nbformat": 4,
 "nbformat_minor": 2
}
